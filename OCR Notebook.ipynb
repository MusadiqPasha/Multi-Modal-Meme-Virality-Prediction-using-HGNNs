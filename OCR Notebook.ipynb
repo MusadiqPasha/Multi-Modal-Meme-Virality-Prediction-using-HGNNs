{
 "cells": [
  {
   "cell_type": "code",
   "execution_count": 1,
   "metadata": {},
   "outputs": [
    {
     "name": "stdout",
     "output_type": "stream",
     "text": [
      "Requirement already satisfied: praw in c:\\users\\kmusa\\anaconda3\\lib\\site-packages (7.8.1)\n",
      "Requirement already satisfied: pandas in c:\\users\\kmusa\\anaconda3\\lib\\site-packages (2.2.2)\n",
      "Requirement already satisfied: prawcore<3,>=2.4 in c:\\users\\kmusa\\anaconda3\\lib\\site-packages (from praw) (2.4.0)\n",
      "Requirement already satisfied: update_checker>=0.18 in c:\\users\\kmusa\\anaconda3\\lib\\site-packages (from praw) (0.18.0)\n",
      "Requirement already satisfied: websocket-client>=0.54.0 in c:\\users\\kmusa\\anaconda3\\lib\\site-packages (from praw) (1.8.0)\n",
      "Requirement already satisfied: numpy>=1.26.0 in c:\\users\\kmusa\\anaconda3\\lib\\site-packages (from pandas) (1.26.4)\n",
      "Requirement already satisfied: python-dateutil>=2.8.2 in c:\\users\\kmusa\\anaconda3\\lib\\site-packages (from pandas) (2.9.0.post0)\n",
      "Requirement already satisfied: pytz>=2020.1 in c:\\users\\kmusa\\anaconda3\\lib\\site-packages (from pandas) (2024.1)\n",
      "Requirement already satisfied: tzdata>=2022.7 in c:\\users\\kmusa\\anaconda3\\lib\\site-packages (from pandas) (2023.3)\n",
      "Requirement already satisfied: requests<3.0,>=2.6.0 in c:\\users\\kmusa\\anaconda3\\lib\\site-packages (from prawcore<3,>=2.4->praw) (2.32.3)\n",
      "Requirement already satisfied: six>=1.5 in c:\\users\\kmusa\\anaconda3\\lib\\site-packages (from python-dateutil>=2.8.2->pandas) (1.16.0)\n",
      "Requirement already satisfied: charset-normalizer<4,>=2 in c:\\users\\kmusa\\anaconda3\\lib\\site-packages (from requests<3.0,>=2.6.0->prawcore<3,>=2.4->praw) (3.3.2)\n",
      "Requirement already satisfied: idna<4,>=2.5 in c:\\users\\kmusa\\anaconda3\\lib\\site-packages (from requests<3.0,>=2.6.0->prawcore<3,>=2.4->praw) (3.7)\n",
      "Requirement already satisfied: urllib3<3,>=1.21.1 in c:\\users\\kmusa\\anaconda3\\lib\\site-packages (from requests<3.0,>=2.6.0->prawcore<3,>=2.4->praw) (1.26.20)\n",
      "Requirement already satisfied: certifi>=2017.4.17 in c:\\users\\kmusa\\anaconda3\\lib\\site-packages (from requests<3.0,>=2.6.0->prawcore<3,>=2.4->praw) (2024.8.30)\n",
      "Note: you may need to restart the kernel to use updated packages.\n"
     ]
    },
    {
     "name": "stderr",
     "output_type": "stream",
     "text": [
      "WARNING: Ignoring invalid distribution ~orch (c:\\Users\\kmusa\\anaconda3\\Lib\\site-packages)\n",
      "WARNING: Ignoring invalid distribution ~orch (c:\\Users\\kmusa\\anaconda3\\Lib\\site-packages)\n",
      "WARNING: Ignoring invalid distribution ~orch (c:\\Users\\kmusa\\anaconda3\\Lib\\site-packages)\n"
     ]
    },
    {
     "name": "stdout",
     "output_type": "stream",
     "text": [
      "Requirement already satisfied: easyocr in c:\\users\\kmusa\\anaconda3\\lib\\site-packages (1.7.2)\n",
      "Requirement already satisfied: torch in c:\\users\\kmusa\\anaconda3\\lib\\site-packages (from easyocr) (2.6.0)\n",
      "Requirement already satisfied: torchvision>=0.5 in c:\\users\\kmusa\\anaconda3\\lib\\site-packages (from easyocr) (0.21.0)\n",
      "Requirement already satisfied: opencv-python-headless in c:\\users\\kmusa\\anaconda3\\lib\\site-packages (from easyocr) (4.11.0.86)\n",
      "Requirement already satisfied: scipy in c:\\users\\kmusa\\anaconda3\\lib\\site-packages (from easyocr) (1.13.1)\n",
      "Requirement already satisfied: numpy in c:\\users\\kmusa\\anaconda3\\lib\\site-packages (from easyocr) (1.26.4)\n",
      "Requirement already satisfied: Pillow in c:\\users\\kmusa\\anaconda3\\lib\\site-packages (from easyocr) (10.4.0)\n",
      "Requirement already satisfied: scikit-image in c:\\users\\kmusa\\anaconda3\\lib\\site-packages (from easyocr) (0.24.0)\n",
      "Requirement already satisfied: python-bidi in c:\\users\\kmusa\\anaconda3\\lib\\site-packages (from easyocr) (0.6.6)\n",
      "Requirement already satisfied: PyYAML in c:\\users\\kmusa\\anaconda3\\lib\\site-packages (from easyocr) (6.0.1)\n",
      "Requirement already satisfied: Shapely in c:\\users\\kmusa\\anaconda3\\lib\\site-packages (from easyocr) (2.0.6)\n",
      "Requirement already satisfied: pyclipper in c:\\users\\kmusa\\anaconda3\\lib\\site-packages (from easyocr) (1.3.0.post6)\n",
      "Requirement already satisfied: ninja in c:\\users\\kmusa\\anaconda3\\lib\\site-packages (from easyocr) (1.11.1.3)\n",
      "Requirement already satisfied: filelock in c:\\users\\kmusa\\anaconda3\\lib\\site-packages (from torch->easyocr) (3.13.1)\n",
      "Requirement already satisfied: typing-extensions>=4.10.0 in c:\\users\\kmusa\\anaconda3\\lib\\site-packages (from torch->easyocr) (4.12.2)\n",
      "Requirement already satisfied: networkx in c:\\users\\kmusa\\anaconda3\\lib\\site-packages (from torch->easyocr) (3.3)\n",
      "Requirement already satisfied: jinja2 in c:\\users\\kmusa\\anaconda3\\lib\\site-packages (from torch->easyocr) (3.1.4)\n",
      "Requirement already satisfied: fsspec in c:\\users\\kmusa\\anaconda3\\lib\\site-packages (from torch->easyocr) (2024.6.1)\n",
      "Requirement already satisfied: setuptools in c:\\users\\kmusa\\anaconda3\\lib\\site-packages (from torch->easyocr) (75.1.0)\n",
      "Requirement already satisfied: sympy==1.13.1 in c:\\users\\kmusa\\anaconda3\\lib\\site-packages (from torch->easyocr) (1.13.1)\n",
      "Requirement already satisfied: mpmath<1.4,>=1.1.0 in c:\\users\\kmusa\\anaconda3\\lib\\site-packages (from sympy==1.13.1->torch->easyocr) (1.3.0)\n",
      "Requirement already satisfied: imageio>=2.33 in c:\\users\\kmusa\\anaconda3\\lib\\site-packages (from scikit-image->easyocr) (2.33.1)\n",
      "Requirement already satisfied: tifffile>=2022.8.12 in c:\\users\\kmusa\\anaconda3\\lib\\site-packages (from scikit-image->easyocr) (2023.4.12)\n",
      "Requirement already satisfied: packaging>=21 in c:\\users\\kmusa\\anaconda3\\lib\\site-packages (from scikit-image->easyocr) (23.2)\n",
      "Requirement already satisfied: lazy-loader>=0.4 in c:\\users\\kmusa\\anaconda3\\lib\\site-packages (from scikit-image->easyocr) (0.4)\n",
      "Requirement already satisfied: MarkupSafe>=2.0 in c:\\users\\kmusa\\anaconda3\\lib\\site-packages (from jinja2->torch->easyocr) (2.1.3)\n",
      "Note: you may need to restart the kernel to use updated packages.\n"
     ]
    },
    {
     "name": "stderr",
     "output_type": "stream",
     "text": [
      "WARNING: Ignoring invalid distribution ~orch (c:\\Users\\kmusa\\anaconda3\\Lib\\site-packages)\n",
      "WARNING: Ignoring invalid distribution ~orch (c:\\Users\\kmusa\\anaconda3\\Lib\\site-packages)\n",
      "WARNING: Ignoring invalid distribution ~orch (c:\\Users\\kmusa\\anaconda3\\Lib\\site-packages)\n"
     ]
    }
   ],
   "source": [
    "%pip install praw pandas\n",
    "%pip install easyocr"
   ]
  },
  {
   "cell_type": "code",
   "execution_count": 2,
   "metadata": {},
   "outputs": [],
   "source": [
    "import os\n",
    "import pandas as pd\n",
    "import requests\n",
    "import praw\n",
    "import time\n",
    "from tqdm import tqdm\n",
    "import easyocr"
   ]
  },
  {
   "cell_type": "markdown",
   "metadata": {},
   "source": [
    "# Do OCR"
   ]
  },
  {
   "cell_type": "code",
   "execution_count": 5,
   "metadata": {},
   "outputs": [],
   "source": [
    "def perform_ocr(image_folder, csv_file):\n",
    "    # ✅ Initialize EasyOCR reader\n",
    "    reader = easyocr.Reader(['en'])  # Load English model\n",
    "    df = pd.read_csv(csv_file, encoding=\"ISO-8859-1\")\n",
    "    df[\"Extracted Text\"] = \"\"\n",
    "\n",
    "    # ✅ List to store rows to delete\n",
    "    rows_to_delete = []\n",
    "\n",
    "    # ✅ Iterate through all rows with progress bar\n",
    "    for index, row in tqdm(list(df.iterrows()), total=len(df), desc=\"Performing OCR\"):\n",
    "        # ✅ Check for correct column name\n",
    "        image_name = str(row.get(\"File Name\", \"\"))\n",
    "        image_path = os.path.join(image_folder, image_name)\n",
    "\n",
    "        # ✅ Check if file exists and is accessible\n",
    "        if os.path.isfile(image_path):\n",
    "            try:\n",
    "                # ✅ Apply EasyOCR\n",
    "                results = reader.readtext(image_path)\n",
    "                if results:\n",
    "                    extracted_text = \" \".join([result[1] for result in results])\n",
    "                    df.at[index, \"Extracted Text\"] = extracted_text.strip()\n",
    "                else:\n",
    "                    # ✅ No text extracted, mark for deletion\n",
    "                    rows_to_delete.append(index)\n",
    "                    os.remove(image_path)\n",
    "                    print(f\"❌ No text found. Deleted: {image_name}\")\n",
    "            except Exception as e:\n",
    "                # ✅ Error in OCR, delete image and row\n",
    "                rows_to_delete.append(index)\n",
    "                os.remove(image_path)\n",
    "                print(f\"❌ Error processing {image_name}: {e}\")\n",
    "        else:\n",
    "            # ✅ File not found, mark row for deletion\n",
    "            rows_to_delete.append(index)\n",
    "            print(f\"❌ File not found: {image_name}\")\n",
    "\n",
    "    # ✅ Drop invalid rows and reset index\n",
    "    df.drop(rows_to_delete, inplace=True)\n",
    "    df.reset_index(drop=True, inplace=True)\n",
    "\n",
    "    # ✅ Rename files to maintain correct numbering\n",
    "    for new_index, row in tqdm(df.iterrows(), total=len(df), desc=\"Renaming images\"):\n",
    "        old_name = str(row.get(\"File Name\", \"\"))\n",
    "        file_extension = os.path.splitext(old_name)[1]\n",
    "        new_name = f\"{new_index + 1}_{old_name.split('_', 1)[-1]}\"\n",
    "        old_path = os.path.join(image_folder, old_name)\n",
    "        new_path = os.path.join(image_folder, new_name)\n",
    "\n",
    "        if os.path.isfile(old_path):\n",
    "            os.rename(old_path, new_path)\n",
    "            df.at[new_index, \"File Name\"] = new_name\n",
    "\n",
    "    df.to_csv(csv_file, index=False)\n",
    "    print(f\"✅ Updated CSV saved with extracted text as: {csv_file}\")\n",
    "    return df"
   ]
  },
  {
   "cell_type": "code",
   "execution_count": null,
   "metadata": {},
   "outputs": [],
   "source": [
    "filename_to_save =\"metadata.csv\"\n",
    "images_output_folder = \"reddit_meme_data\\images\""
   ]
  },
  {
   "cell_type": "code",
   "execution_count": 14,
   "metadata": {},
   "outputs": [
    {
     "name": "stderr",
     "output_type": "stream",
     "text": [
      "Fetching posts:   0%|          | 0/500 [00:00<?, ?it/s]"
     ]
    },
    {
     "name": "stderr",
     "output_type": "stream",
     "text": [
      "Fetching posts: 100%|██████████| 500/500 [22:16<00:00,  2.67s/it]\n"
     ]
    },
    {
     "name": "stdout",
     "output_type": "stream",
     "text": [
      "Data saved to ProgrammerHumor.csv\n"
     ]
    },
    {
     "name": "stderr",
     "output_type": "stream",
     "text": [
      "Downloading images: 100%|██████████| 500/500 [02:16<00:00,  3.67it/s]\n",
      "Neither CUDA nor MPS are available - defaulting to CPU. Note: This module is much faster with a GPU.\n"
     ]
    },
    {
     "name": "stdout",
     "output_type": "stream",
     "text": [
      "\n",
      "Total invalid/failed downloads: 23\n",
      "Row 34 - URL: https://i.redd.it/8k5jsyqlbhpe1.gif deleted.\n",
      "Row 46 - URL: https://www.reddit.com/gallery/1ject17 deleted.\n",
      "Row 102 - URL: https://i.imgur.com/BoXRNqO.jpeg deleted.\n",
      "Row 117 - URL: https://i.redd.it/xpstbze5b5pe1.gif deleted.\n",
      "Row 155 - URL: https://imgur.com/YRkb2P3 deleted.\n",
      "Row 165 - URL: https://i.redd.it/wywk3m74aooe1.gif deleted.\n",
      "Row 175 - URL: https://github.com/giacomo-b/rust-stakeholder deleted.\n",
      "Row 178 - URL: https://imgur.com/a/aXzlNxZ deleted.\n",
      "Row 215 - URL: https://i.redd.it/832i90ehpgoe1.gif deleted.\n",
      "Row 237 - URL: https://www.reddit.com/gallery/1ja8ukv deleted.\n",
      "Row 239 - URL: https://youtube.com/shorts/egUwZAyY0sk?feature=share deleted.\n",
      "Row 249 - URL: https://i.redd.it/p1i5pqf782oe1.gif deleted.\n",
      "Row 262 - URL: https://youtu.be/kqa_EiQMN3Y deleted.\n",
      "Row 303 - URL: https://www.reddit.com/gallery/1j7s4uj deleted.\n",
      "Row 329 - URL: https://www.reddit.com/gallery/1j71w40 deleted.\n",
      "Row 332 - URL: https://imgur.com/a/XiAnXQl deleted.\n",
      "Row 341 - URL: https://i.redd.it/tpxm409lnkne1.gif deleted.\n",
      "Row 343 - URL: https://i.redd.it/cqm4h8zb7gne1.gif deleted.\n",
      "Row 399 - URL: https://i.redd.it/rdkpibng7wme1.gif deleted.\n",
      "Row 402 - URL: https://www.reddit.com/gallery/1j5n8fu deleted.\n",
      "Row 439 - URL: https://www.reddit.com/gallery/1j2kv2y deleted.\n",
      "Row 456 - URL: https://i.redd.it/7tuhjgu9ygme1.gif deleted.\n",
      "Row 482 - URL: https://i.redd.it/pad0x70rr6me1.gif deleted.\n",
      "Updated CSV saved as: ProgrammerHumor.csv\n",
      "\n"
     ]
    },
    {
     "name": "stderr",
     "output_type": "stream",
     "text": [
      "Performing OCR:  29%|██▉       | 139/477 [18:28<36:45,  6.52s/it]  "
     ]
    },
    {
     "name": "stdout",
     "output_type": "stream",
     "text": [
      "❌ No text found. Deleted: 139_joekowski_ProgrammerHumor.png\n"
     ]
    },
    {
     "name": "stderr",
     "output_type": "stream",
     "text": [
      "Performing OCR:  49%|████▉     | 233/477 [27:27<19:00,  4.68s/it]  "
     ]
    },
    {
     "name": "stdout",
     "output_type": "stream",
     "text": [
      "❌ No text found. Deleted: 233_TallStrike6226_ProgrammerHumor.jpeg\n"
     ]
    },
    {
     "name": "stderr",
     "output_type": "stream",
     "text": [
      "Performing OCR:  57%|█████▋    | 270/477 [30:06<08:16,  2.40s/it]"
     ]
    },
    {
     "name": "stdout",
     "output_type": "stream",
     "text": [
      "❌ No text found. Deleted: 270_invisiblebeing_ProgrammerHumor.png\n"
     ]
    },
    {
     "name": "stderr",
     "output_type": "stream",
     "text": [
      "Performing OCR:  65%|██████▍   | 308/477 [32:03<09:20,  3.32s/it]"
     ]
    },
    {
     "name": "stdout",
     "output_type": "stream",
     "text": [
      "❌ No text found. Deleted: 308_mcnello_ProgrammerHumor.jpeg\n"
     ]
    },
    {
     "name": "stderr",
     "output_type": "stream",
     "text": [
      "Performing OCR: 100%|██████████| 477/477 [42:00<00:00,  5.29s/it]\n",
      "Renaming images: 100%|██████████| 473/473 [00:00<00:00, 1289.69it/s]\n"
     ]
    },
    {
     "name": "stdout",
     "output_type": "stream",
     "text": [
      "✅ Updated CSV saved with extracted text as: ProgrammerHumor.csv\n"
     ]
    }
   ],
   "source": [
    "data_df = perform_ocr(images_output_folder,filename_to_save)"
   ]
  }
 ],
 "metadata": {
  "kernelspec": {
   "display_name": "Python 3",
   "language": "python",
   "name": "python3"
  },
  "language_info": {
   "codemirror_mode": {
    "name": "ipython",
    "version": 3
   },
   "file_extension": ".py",
   "mimetype": "text/x-python",
   "name": "python",
   "nbconvert_exporter": "python",
   "pygments_lexer": "ipython3",
   "version": "3.12.7"
  }
 },
 "nbformat": 4,
 "nbformat_minor": 2
}
